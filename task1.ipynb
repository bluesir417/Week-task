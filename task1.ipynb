{
 "cells": [
  {
   "cell_type": "code",
   "execution_count": 13,
   "metadata": {},
   "outputs": [],
   "source": [
    "import numpy as np\n",
    "import torch\n",
    "import torch.nn as nn\n",
    "from sklearn.preprocessing import MinMaxScaler\n",
    "from sklearn.model_selection import train_test_split\n",
    "from torch.utils.data import TensorDataset, DataLoader\n",
    "import torch.optim as optim\n",
    "import torch.nn.functional as F"
   ]
  },
  {
   "cell_type": "code",
   "execution_count": 14,
   "metadata": {},
   "outputs": [],
   "source": [
    "# 加载normal.npy和abnormal.npy文件中的数据  \n",
    "normal_data = np.load('./voice/data/normal.npy')  \n",
    "abnormal_data = np.load('./voice/data/abnormal.npy')  \n",
    "\n",
    "\n",
    "# 合并正常和异常数据\n",
    "data = np.concatenate((normal_data, abnormal_data), axis=0)\n",
    "\n",
    "# 创建标签，0 表示正常，1 表示异常\n",
    "labels = np.concatenate((np.zeros(len(normal_data)), np.ones(len(abnormal_data))), axis=0)\n",
    "\n",
    "# 划分训练集和测试集，测试集占比为 20%，随机种子为 42\n",
    "train_data, test_data, train_labels, test_labels = train_test_split(\n",
    "    data, labels, test_size=0.2, random_state=42\n",
    ")\n",
    "train_labels_tensor = torch.tensor(train_labels, dtype=torch.float32)\n",
    "test_labels_tensor = torch.tensor(test_labels, dtype=torch.float32)\n",
    "\n",
    "\n",
    "\n",
    "# 数据标准化\n",
    "scaler = MinMaxScaler(feature_range=(-1, 1))\n",
    "train_data_normalized = scaler.fit_transform(train_data.reshape(-1, 1))\n",
    "test_data_normalized = scaler.transform(test_data.reshape(-1, 1))\n",
    "# 转换为 PyTorch 张量\n",
    "train_data_tensor = torch.FloatTensor(train_data_normalized).view(-1)\n",
    "test_data_tensor = torch.FloatTensor(test_data_normalized).view(-1)\n",
    "\n"
   ]
  },
  {
   "cell_type": "code",
   "execution_count": 15,
   "metadata": {},
   "outputs": [],
   "source": [
    "# 定义 LSTM 模型\n",
    "class LSTMModel(nn.Module):\n",
    "    def __init__(self, input_size, hidden_size, output_size):\n",
    "        super(LSTMModel, self).__init__()\n",
    "        self.hidden_size = hidden_size\n",
    "        self.lstm = nn.LSTM(input_size, hidden_size)\n",
    "        self.linear = nn.Linear(hidden_size, output_size)\n",
    "\n",
    "    def forward(self, input_seq):\n",
    "        lstm_out, _ = self.lstm(input_seq.view(len(input_seq), 1, -1))\n",
    "        predictions = self.linear(lstm_out.view(len(input_seq), -1))\n",
    "        return predictions[-1]\n",
    "\n",
    "input_size = 1\n",
    "hidden_size = 64\n",
    "output_size = 1\n",
    "model = LSTMModel(input_size, hidden_size, output_size)\n",
    "train = model(train_data_tensor)\n"
   ]
  },
  {
   "cell_type": "code",
   "execution_count": 16,
   "metadata": {},
   "outputs": [],
   "source": [
    "\n",
    "criterion = nn.MSELoss()\n",
    "optimizer = torch.optim.Adam(model.parameters(), lr=0.001)\n"
   ]
  },
  {
   "cell_type": "code",
   "execution_count": 17,
   "metadata": {},
   "outputs": [
    {
     "name": "stderr",
     "output_type": "stream",
     "text": [
      "/opt/conda/envs/work/lib/python3.11/site-packages/torch/nn/modules/loss.py:535: UserWarning: Using a target size (torch.Size([80])) that is different to the input size (torch.Size([1])). This will likely lead to incorrect results due to broadcasting. Please ensure they have the same size.\n",
      "  return F.mse_loss(input, target, reduction=self.reduction)\n"
     ]
    },
    {
     "name": "stdout",
     "output_type": "stream",
     "text": [
      "Epoch [1/10], Loss: 0.5718\n",
      "Epoch [2/10], Loss: 0.5506\n",
      "Epoch [3/10], Loss: 0.5303\n",
      "Epoch [4/10], Loss: 0.5107\n",
      "Epoch [5/10], Loss: 0.4918\n",
      "Epoch [6/10], Loss: 0.4734\n",
      "Epoch [7/10], Loss: 0.4554\n",
      "Epoch [8/10], Loss: 0.4377\n",
      "Epoch [9/10], Loss: 0.4203\n",
      "Epoch [10/10], Loss: 0.4031\n",
      "torch.Size([1])\n",
      "训练完成，最终损失：0.4031\n"
     ]
    }
   ],
   "source": [
    "\n",
    "epochs = 10\n",
    "for epoch in range(epochs):\n",
    "    optimizer.zero_grad()\n",
    "    output = model(train_data_tensor)\n",
    "    loss = criterion(output, train_labels_tensor)\n",
    "    loss.backward()\n",
    "    optimizer.step()\n",
    "    if (epoch + 1) % 1 == 0:\n",
    "        print(f\"Epoch [{epoch + 1}/{epochs}], Loss: {loss.item():.4f}\")\n",
    "\n",
    "print(output.size())\n",
    "print(f\"训练完成，最终损失：{loss.item():.4f}\")"
   ]
  },
  {
   "cell_type": "code",
   "execution_count": 18,
   "metadata": {},
   "outputs": [
    {
     "name": "stdout",
     "output_type": "stream",
     "text": [
      "Epoch [1/10], 测试损失：0.3000, 测试准确率：0.6000\n",
      "Epoch [2/10], 测试损失：0.3000, 测试准确率：0.6000\n",
      "Epoch [3/10], 测试损失：0.3000, 测试准确率：0.6000\n",
      "Epoch [4/10], 测试损失：0.3000, 测试准确率：0.6000\n",
      "Epoch [5/10], 测试损失：0.3000, 测试准确率：0.6000\n",
      "Epoch [6/10], 测试损失：0.3000, 测试准确率：0.6000\n",
      "Epoch [7/10], 测试损失：0.3000, 测试准确率：0.6000\n",
      "Epoch [8/10], 测试损失：0.3000, 测试准确率：0.6000\n",
      "Epoch [9/10], 测试损失：0.3000, 测试准确率：0.6000\n",
      "Epoch [10/10], 测试损失：0.3000, 测试准确率：0.6000\n",
      "torch.Size([20])\n",
      "torch.Size([1])\n"
     ]
    },
    {
     "name": "stderr",
     "output_type": "stream",
     "text": [
      "/opt/conda/envs/work/lib/python3.11/site-packages/torch/nn/modules/loss.py:535: UserWarning: Using a target size (torch.Size([20])) that is different to the input size (torch.Size([1])). This will likely lead to incorrect results due to broadcasting. Please ensure they have the same size.\n",
      "  return F.mse_loss(input, target, reduction=self.reduction)\n"
     ]
    }
   ],
   "source": [
    "model.eval()\n",
    "test_loss = 0.0\n",
    "epochs = 10\n",
    "for epoch in range(epochs):\n",
    "    with torch.no_grad():\n",
    "        test_predictions = model(test_data_tensor)\n",
    "        test_loss = criterion(test_predictions, test_labels_tensor)\n",
    "        \n",
    "        # 将二进制预测转换为整数（0或1）\n",
    "        binary_predictions = (test_predictions >= 0.5).int()\n",
    "        \n",
    "        # 计算准确率\n",
    "        correct_predictions = (binary_predictions == test_labels_tensor).sum().item()\n",
    "        total_samples = len(test_labels_tensor)\n",
    "        accuracy = correct_predictions / total_samples\n",
    "        \n",
    "        print(f\"Epoch [{epoch + 1}/{epochs}], 测试损失：{test_loss.item():.4f}, 测试准确率：{accuracy:.4f}\")\n",
    "print(test_labels_tensor.size())\n",
    "print(binary_predictions.size())"
   ]
  }
 ],
 "metadata": {
  "kernelspec": {
   "display_name": "work",
   "language": "python",
   "name": "python3"
  },
  "language_info": {
   "codemirror_mode": {
    "name": "ipython",
    "version": 3
   },
   "file_extension": ".py",
   "mimetype": "text/x-python",
   "name": "python",
   "nbconvert_exporter": "python",
   "pygments_lexer": "ipython3",
   "version": "3.11.8"
  }
 },
 "nbformat": 4,
 "nbformat_minor": 2
}
